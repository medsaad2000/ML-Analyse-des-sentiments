{
 "cells": [
  {
   "cell_type": "markdown",
   "metadata": {
    "tags": []
   },
   "source": [
    "<div style=\"display:flex; justify-content:column;  text-align:center;\">\n",
    "    <img style=\"width:120px; height:120px; margin-top:30px;\" src=\"fst.jpg\" />\n",
    "    <h1 style=\"width:500px; font-size:34px; font-weight:400px; font-family:Serif; \">Faculté des Sciences et Techniques de Tanger Département Génie Informatique</h1>\n",
    "    <img style=\"width:120px; height:120px; margin-top:30px;\" src=\"uae.jpg\" />\n",
    "</div>"
   ]
  },
  {
   "cell_type": "markdown",
   "metadata": {},
   "source": [
    "<div style=\"margin-top:60px\">\n",
    "    <h1 style=\"color:#1B9CFC; font-size:30px; text-align : center\">Mini-projet</h1>\n",
    "    <h1 style=\"color:#d63031; font-size:30px; text-align : center\">Réseaux de neurones artificiels</h1>\n",
    "</div>"
   ]
  },
  {
   "cell_type": "markdown",
   "metadata": {},
   "source": [
    "<div style=\"display:flex; justify-content:column;  text-align:center; margin-top:20px; margin-bottom:20px;\">\n",
    "    <div style=\"margin-right:550px; margin-left:70px\">\n",
    "        <h3 style=\"color:#1B9CFC;\">Encadré par : </h3>\n",
    "        <h4>Mr.AIT KBIR</h4>\n",
    "    </div>\n",
    "    <div >\n",
    "        <h3 style=\"color:#1B9CFC;\">Réalisé par : </h3>\n",
    "        <h4>AMMOR YAZID</h4>\n",
    "        <h4>MESKINI MOHAMED SAAD</h4>\n",
    "        <h4>EL ABDI ACHRAF</h4>\n",
    "    </div>    \n",
    "</div>   "
   ]
  },
  {
   "cell_type": "markdown",
   "metadata": {},
   "source": [
    "<div>\n",
    "    <h2 style=\"font-family:Serif; color:#d63031; font-size:27px; margin-bottom:0\">I -Introduction : </h2>\n",
    "        <p  style=\"font-family:Serif; font-size:17px;\">L’analyse de sentiment (ou sentiment analysis en anglais) est le processus qui consiste à déterminer l’opinion, le jugement et l’émotion qui se cache derrière le langage naturel.\n",
    "Lorsque les individus laissent des avis en ligne, formulent des commentaires sur une marque ou répondent à des études de marché, leurs appréciations sont forcément teintées par des sentiments, qu’ils soient positifs, négatifs ou neutres.</p>\n",
    "</div>"
   ]
  },
  {
   "cell_type": "markdown",
   "metadata": {},
   "source": [
    "<div>\n",
    "    <h2 style=\"font-family:Serif; color:#d63031; font-size:27px; margin-bottom:0\">II -But : </h2>\n",
    "        <p  style=\"font-family:Serif; font-size:17px;\">Utilisation des réseaux multi-couches pour l’analyse des sentiments des phrases issues d’une\n",
    "base d’exemples qui contient des phrases étiquetées avec un sentiment positif ou négatif,.</p>\n",
    "</div>"
   ]
  },
  {
   "cell_type": "markdown",
   "metadata": {
    "id": "sz9Sd2JP_kgb"
   },
   "source": [
    "<h2 style=\"font-family:Serif; color:##f39c12; font-size:27px; margin-bottom:0\">1 - L'importation des packages necessaires </h2>"
   ]
  },
  {
   "cell_type": "code",
   "execution_count": 1,
   "metadata": {
    "id": "pA_2wrKq_tZy"
   },
   "outputs": [],
   "source": [
    "import numpy as np\n",
    "import pandas as pd\n",
    "#Importer les packages sklearn\n",
    "from sklearn.neural_network import MLPClassifier\n",
    "from sklearn.model_selection import train_test_split\n",
    "from sklearn.metrics import classification_report , confusion_matrix\n",
    "from sklearn.feature_extraction.text import CountVectorizer\n",
    "#Importer le package nltk\n",
    "import nltk \n",
    "from nltk.corpus import stopwords\n",
    "import string"
   ]
  },
  {
   "cell_type": "markdown",
   "metadata": {
    "id": "NYgE05BaAE6x"
   },
   "source": [
    "<h2 style=\"font-family:Serif; color:##f39c12; font-size:27px; margin-bottom:0\">2 - L'importation et preparation des données </h2>"
   ]
  },
  {
   "cell_type": "code",
   "execution_count": 2,
   "metadata": {
    "colab": {
     "base_uri": "https://localhost:8080/",
     "height": 206
    },
    "id": "N0gvY0DSBM7C",
    "outputId": "6cc4055e-c745-45d0-db1f-28a52796a017"
   },
   "outputs": [
    {
     "data": {
      "text/html": [
       "<div>\n",
       "<style scoped>\n",
       "    .dataframe tbody tr th:only-of-type {\n",
       "        vertical-align: middle;\n",
       "    }\n",
       "\n",
       "    .dataframe tbody tr th {\n",
       "        vertical-align: top;\n",
       "    }\n",
       "\n",
       "    .dataframe thead th {\n",
       "        text-align: right;\n",
       "    }\n",
       "</style>\n",
       "<table border=\"1\" class=\"dataframe\">\n",
       "  <thead>\n",
       "    <tr style=\"text-align: right;\">\n",
       "      <th></th>\n",
       "      <th>Commentaires</th>\n",
       "      <th>Note</th>\n",
       "    </tr>\n",
       "  </thead>\n",
       "  <tbody>\n",
       "    <tr>\n",
       "      <th>0</th>\n",
       "      <td>A very, very, very slow-moving, aimless movie ...</td>\n",
       "      <td>0</td>\n",
       "    </tr>\n",
       "    <tr>\n",
       "      <th>1</th>\n",
       "      <td>Not sure who was more lost - the flat characte...</td>\n",
       "      <td>0</td>\n",
       "    </tr>\n",
       "    <tr>\n",
       "      <th>2</th>\n",
       "      <td>Attempting artiness with black &amp; white and cle...</td>\n",
       "      <td>0</td>\n",
       "    </tr>\n",
       "    <tr>\n",
       "      <th>3</th>\n",
       "      <td>Very little music or anything to speak of.</td>\n",
       "      <td>0</td>\n",
       "    </tr>\n",
       "    <tr>\n",
       "      <th>4</th>\n",
       "      <td>The best scene in the movie was when Gerardo i...</td>\n",
       "      <td>1</td>\n",
       "    </tr>\n",
       "    <tr>\n",
       "      <th>5</th>\n",
       "      <td>The rest of the movie lacks art, charm, meanin...</td>\n",
       "      <td>0</td>\n",
       "    </tr>\n",
       "    <tr>\n",
       "      <th>6</th>\n",
       "      <td>Wasted two hours.</td>\n",
       "      <td>0</td>\n",
       "    </tr>\n",
       "    <tr>\n",
       "      <th>7</th>\n",
       "      <td>Saw the movie today and thought it was a good ...</td>\n",
       "      <td>1</td>\n",
       "    </tr>\n",
       "    <tr>\n",
       "      <th>8</th>\n",
       "      <td>A bit predictable.</td>\n",
       "      <td>0</td>\n",
       "    </tr>\n",
       "    <tr>\n",
       "      <th>9</th>\n",
       "      <td>Loved the casting of Jimmy Buffet as the scien...</td>\n",
       "      <td>1</td>\n",
       "    </tr>\n",
       "  </tbody>\n",
       "</table>\n",
       "</div>"
      ],
      "text/plain": [
       "                                        Commentaires  Note\n",
       "0  A very, very, very slow-moving, aimless movie ...     0\n",
       "1  Not sure who was more lost - the flat characte...     0\n",
       "2  Attempting artiness with black & white and cle...     0\n",
       "3       Very little music or anything to speak of.       0\n",
       "4  The best scene in the movie was when Gerardo i...     1\n",
       "5  The rest of the movie lacks art, charm, meanin...     0\n",
       "6                                Wasted two hours.       0\n",
       "7  Saw the movie today and thought it was a good ...     1\n",
       "8                               A bit predictable.       0\n",
       "9  Loved the casting of Jimmy Buffet as the scien...     1"
      ]
     },
     "execution_count": 2,
     "metadata": {},
     "output_type": "execute_result"
    }
   ],
   "source": [
    "#Lire le fichier des données\n",
    "df =pd.read_excel('imdb_labelled.xlsx')\n",
    "#Afficher les 10 premiers lignes\n",
    "df.head(10)"
   ]
  },
  {
   "cell_type": "code",
   "execution_count": 3,
   "metadata": {},
   "outputs": [
    {
     "data": {
      "text/plain": [
       "array([[<AxesSubplot:title={'center':'Note'}>]], dtype=object)"
      ]
     },
     "execution_count": 3,
     "metadata": {},
     "output_type": "execute_result"
    },
    {
     "data": {
      "image/png": "[encoded data removed]",
      "text/plain": [
       "<Figure size 432x288 with 1 Axes>"
      ]
     },
     "metadata": {
      "needs_background": "light"
     },
     "output_type": "display_data"
    }
   ],
   "source": [
    "df.hist(column=\"Note\")"
   ]
  },
  {
   "cell_type": "code",
   "execution_count": 4,
   "metadata": {
    "colab": {
     "base_uri": "https://localhost:8080/"
    },
    "id": "mEa3ozkVBddS",
    "outputId": "3637216c-031f-47e5-8045-99852ba93846"
   },
   "outputs": [
    {
     "data": {
      "text/plain": [
       "(1000, 2)"
      ]
     },
     "execution_count": 4,
     "metadata": {},
     "output_type": "execute_result"
    }
   ],
   "source": [
    "#Afficher le nombre des lignes et colonnes\n",
    "df.shape"
   ]
  },
  {
   "cell_type": "code",
   "execution_count": 5,
   "metadata": {
    "colab": {
     "base_uri": "https://localhost:8080/"
    },
    "id": "z6XAGaujBvVM",
    "outputId": "59ce6d57-efd3-4eab-a4dd-765e39dc6aa0"
   },
   "outputs": [
    {
     "data": {
      "text/plain": [
       "Index(['Commentaires', 'Note'], dtype='object')"
      ]
     },
     "execution_count": 5,
     "metadata": {},
     "output_type": "execute_result"
    }
   ],
   "source": [
    "#Afficher les noms des colonnes\n",
    "df.columns"
   ]
  },
  {
   "cell_type": "code",
   "execution_count": 6,
   "metadata": {
    "colab": {
     "base_uri": "https://localhost:8080/"
    },
    "id": "0xhuKeMPB8Fx",
    "outputId": "8a7172ea-d29a-436d-92ba-3ddfbabdc8c3"
   },
   "outputs": [
    {
     "data": {
      "text/plain": [
       "Commentaires    0\n",
       "Note            0\n",
       "dtype: int64"
      ]
     },
     "execution_count": 6,
     "metadata": {},
     "output_type": "execute_result"
    }
   ],
   "source": [
    "#Afficher le nombre de données manquantes pour chaque colonne \n",
    "df.isnull().sum()"
   ]
  },
  {
   "cell_type": "code",
   "execution_count": 7,
   "metadata": {
    "colab": {
     "base_uri": "https://localhost:8080/"
    },
    "id": "Wo1D_DlgC-a0",
    "outputId": "4371c635-fa44-4d59-afd8-23c50074ecaa"
   },
   "outputs": [
    {
     "name": "stderr",
     "output_type": "stream",
     "text": [
      "[nltk_data] Downloading package stopwords to\n",
      "[nltk_data]     C:\\Users\\dell\\AppData\\Roaming\\nltk_data...\n",
      "[nltk_data]   Package stopwords is already up-to-date!\n"
     ]
    },
    {
     "data": {
      "text/plain": [
       "True"
      ]
     },
     "execution_count": 7,
     "metadata": {},
     "output_type": "execute_result"
    }
   ],
   "source": [
    "#Download the stopwords package\n",
    "nltk.download('stopwords')"
   ]
  },
  {
   "cell_type": "code",
   "execution_count": 8,
   "metadata": {
    "id": "r4B2bJcFDILo"
   },
   "outputs": [],
   "source": [
    "def process_text(commentaire):\n",
    "  #1-Supprimer la ponctuation \n",
    "  #2-Supprimer les stopwords\n",
    "  #3-Renvoyer une liste de mots de texte propres\n",
    "\n",
    "  #1\n",
    "  nopunc =[char for char in commentaire if char not in string.punctuation]\n",
    "  nopunc= ''.join(nopunc)\n",
    "\n",
    "  #2\n",
    "  clean_words = [word for word in nopunc.split() if word.lower() not in stopwords.words('english')]\n",
    "\n",
    "  #3\n",
    "  return clean_words"
   ]
  },
  {
   "cell_type": "code",
   "execution_count": 9,
   "metadata": {
    "id": "15TV_uAxDh99"
   },
   "outputs": [],
   "source": [
    "\n",
    "df.loc[df['Note'] == 0.0, 'Note',] = 0\n",
    "df.loc[df['Note'] == 1.0, 'Note',] = 1\n"
   ]
  },
  {
   "cell_type": "code",
   "execution_count": 10,
   "metadata": {},
   "outputs": [],
   "source": [
    "x = df['Commentaires']\n",
    "y = df['Note']"
   ]
  },
  {
   "cell_type": "code",
   "execution_count": 11,
   "metadata": {},
   "outputs": [],
   "source": [
    "x = x.astype('string')"
   ]
  },
  {
   "cell_type": "code",
   "execution_count": 12,
   "metadata": {
    "colab": {
     "base_uri": "https://localhost:8080/"
    },
    "id": "fH9gLlh4DgGV",
    "outputId": "80f84880-9d8b-4652-d848-24033bb2bf69"
   },
   "outputs": [
    {
     "data": {
      "text/plain": [
       "0    [slowmoving, aimless, movie, distressed, drift...\n",
       "1    [sure, lost, flat, characters, audience, nearl...\n",
       "2    [Attempting, artiness, black, white, clever, c...\n",
       "3                     [little, music, anything, speak]\n",
       "4    [best, scene, movie, Gerardo, trying, find, so...\n",
       "Name: Commentaires, dtype: object"
      ]
     },
     "execution_count": 12,
     "metadata": {},
     "output_type": "execute_result"
    }
   ],
   "source": [
    "#Show the tokenization (a list of tokens also  called lemmas)\n",
    "df['Commentaires'].head().apply(process_text)"
   ]
  },
  {
   "cell_type": "code",
   "execution_count": 13,
   "metadata": {
    "colab": {
     "base_uri": "https://localhost:8080/"
    },
    "id": "Fd3oG5ITD99I",
    "outputId": "768250a3-940f-4bea-cb65-06d152abaf0c"
   },
   "outputs": [
    {
     "data": {
      "text/plain": [
       "<1000x3053 sparse matrix of type '<class 'numpy.int64'>'\n",
       "\twith 12671 stored elements in Compressed Sparse Row format>"
      ]
     },
     "execution_count": 13,
     "metadata": {},
     "output_type": "execute_result"
    }
   ],
   "source": [
    "#Convertir une collection de texte en une matrice des tokens \n",
    "cv = CountVectorizer()\n",
    "x = cv.fit_transform(x)\n",
    "x"
   ]
  },
  {
   "cell_type": "markdown",
   "metadata": {
    "id": "jak02vhuIftS"
   },
   "source": [
    "<h2 style=\"font-family:Serif; color:##f39c12; font-size:27px; margin-bottom:0\">3 - Fragmentation des données </h2>"
   ]
  },
  {
   "cell_type": "code",
   "execution_count": 14,
   "metadata": {
    "colab": {
     "base_uri": "https://localhost:8080/"
    },
    "id": "29ZOiYwzEKJq",
    "outputId": "b5d8e375-f904-485a-9c2d-76c52b1ea89c"
   },
   "outputs": [
    {
     "name": "stdout",
     "output_type": "stream",
     "text": [
      "(800, 3053)\n",
      "(200, 3053)\n"
     ]
    }
   ],
   "source": [
    "#Répartir les données en 80 % de formation et 20 % de test \n",
    "x_train , x_test , y_train , y_test=train_test_split(x,y,test_size = 0.2)\n",
    "print(x_train.shape)\n",
    "print(x_test.shape)"
   ]
  },
  {
   "cell_type": "markdown",
   "metadata": {
    "id": "xOutEq1wI_U8"
   },
   "source": [
    "<h2 style=\"font-family:Serif; color:##f39c12; font-size:27px; margin-bottom:0\">4 - Entrainer le modèle </h2>"
   ]
  },
  {
   "cell_type": "code",
   "execution_count": 15,
   "metadata": {
    "id": "xuBTWy1-EQy3"
   },
   "outputs": [],
   "source": [
    "#Créer le multi-couche Classifier\n",
    "mlp = MLPClassifier(hidden_layer_sizes=(3,2), max_iter=500 , activation='identity')"
   ]
  },
  {
   "cell_type": "markdown",
   "metadata": {},
   "source": [
    "<div>\n",
    "        <p  style=\"font-family:Serif; font-size:17px;\">Les paramètres :<br>\n",
    " <b>✓ hidden_layer_sizes : </b> Ce paramètre nous permet de définir le nombre de couches et le nombre de nœuds que nous souhaitons avoir dans le Neural Network Classifier.<br>\n",
    " <b>✓ max_iter : </b> il indique le nombre d'époques.<br>\n",
    " <b>✓ activation : </b> la fonction d'activation des couches masquées. .<br>\n",
    "</div>"
   ]
  },
  {
   "cell_type": "code",
   "execution_count": 16,
   "metadata": {
    "colab": {
     "base_uri": "https://localhost:8080/"
    },
    "id": "QTPUZS7cEWAQ",
    "outputId": "7e5e8842-2b58-4e1e-8114-7414e867b85d"
   },
   "outputs": [
    {
     "data": {
      "text/plain": [
       "MLPClassifier(activation='identity', hidden_layer_sizes=(3, 2), max_iter=500)"
      ]
     },
     "execution_count": 16,
     "metadata": {},
     "output_type": "execute_result"
    }
   ],
   "source": [
    "#Entrainer le modèle\n",
    "mlp.fit(x_train , y_train)"
   ]
  },
  {
   "cell_type": "markdown",
   "metadata": {
    "id": "wbR2DBRdJuk3"
   },
   "source": [
    "<h2 style=\"font-family:Serif; color:##f39c12; font-size:27px; margin-bottom:0\">5 -Tester le modèle </h2>"
   ]
  },
  {
   "cell_type": "code",
   "execution_count": 17,
   "metadata": {
    "colab": {
     "base_uri": "https://localhost:8080/"
    },
    "id": "EGClv8kjEZeO",
    "outputId": "05a14e02-b0e1-4931-fef0-81f781d17027"
   },
   "outputs": [
    {
     "data": {
      "text/plain": [
       "array([1, 1, 1, 1, 0, 0, 1, 0, 1, 0, 1, 0, 0, 1, 1, 0, 0, 0, 1, 0, 1, 1,\n",
       "       0, 0, 1, 1, 1, 1, 1, 0, 1, 1, 1, 0, 0, 1, 0, 0, 0, 1, 0, 0, 0, 1,\n",
       "       1, 0, 1, 1, 0, 1, 1, 1, 1, 0, 0, 1, 0, 1, 1, 0, 0, 0, 1, 0, 0, 0,\n",
       "       1, 1, 0, 0, 0, 1, 1, 1, 1, 0, 0, 1, 1, 1, 0, 0, 1, 1, 1, 0, 0, 1,\n",
       "       0, 0, 1, 1, 0, 1, 1, 1, 0, 0, 0, 0, 0, 1, 1, 0, 0, 0, 0, 0, 0, 0,\n",
       "       1, 0, 1, 0, 0, 0, 1, 0, 0, 0, 1, 0, 1, 1, 1, 1, 0, 1, 1, 1, 0, 1,\n",
       "       0, 1, 0, 0, 0, 1, 1, 1, 0, 0, 1, 0, 0, 0, 1, 1, 1, 0, 0, 0, 1, 0,\n",
       "       0, 0, 1, 1, 0, 1, 0, 0, 1, 0, 1, 1, 0, 0, 1, 1, 1, 0, 1, 1, 1, 0,\n",
       "       1, 1, 0, 1, 1, 1, 0, 0, 0, 1, 1, 0, 1, 0, 1, 0, 0, 0, 1, 1, 0, 0,\n",
       "       1, 0], dtype=int64)"
      ]
     },
     "execution_count": 17,
     "metadata": {},
     "output_type": "execute_result"
    }
   ],
   "source": [
    "pred = mlp.predict(x_test)\n",
    "pred"
   ]
  },
  {
   "cell_type": "markdown",
   "metadata": {
    "id": "nCqSsV_XLaCj"
   },
   "source": [
    "<h2 style=\"font-family:Serif; color:##f39c12; font-size:27px; margin-bottom:0\">6 -Evaluer le modèle </h2>"
   ]
  },
  {
   "cell_type": "markdown",
   "metadata": {},
   "source": [
    "<p  style=\"font-family:Serif; font-size:17px;\">Un rapport de classification est utilisé pour mesurer la qualité des prédictions à partir d'un algorithme de classification. Combien de prédictions sont vraies et combien sont fausses</p>"
   ]
  },
  {
   "cell_type": "code",
   "execution_count": 18,
   "metadata": {
    "colab": {
     "base_uri": "https://localhost:8080/"
    },
    "id": "7ZzxnLu8KRux",
    "outputId": "802a7475-c9bb-4b56-fa57-b9fc1d697da7"
   },
   "outputs": [
    {
     "name": "stdout",
     "output_type": "stream",
     "text": [
      "              precision    recall  f1-score   support\n",
      "\n",
      "           0       1.00      1.00      1.00       394\n",
      "           1       1.00      1.00      1.00       406\n",
      "\n",
      "    accuracy                           1.00       800\n",
      "   macro avg       1.00      1.00      1.00       800\n",
      "weighted avg       1.00      1.00      1.00       800\n",
      "\n",
      "\n",
      "Confusion Matric; \n",
      " [[394   0]\n",
      " [  1 405]]\n",
      "\n",
      "Accuracy :  0.99875\n"
     ]
    }
   ],
   "source": [
    "#Évaluer le modèle sur l'ensemble de données d'apprentissage \n",
    "from sklearn.metrics import classification_report, confusion_matrix , accuracy_score\n",
    "pred = mlp.predict(x_train)\n",
    "print(classification_report(y_train, pred))\n",
    "print()\n",
    "print(\"Confusion Matric; \\n\" , confusion_matrix(y_train , pred))\n",
    "print()\n",
    "print('Accuracy : ',accuracy_score(y_train,pred))"
   ]
  },
  {
   "cell_type": "markdown",
   "metadata": {},
   "source": [
    "<div>\n",
    "        <p  style=\"font-family:Serif; font-size:17px;\">Les paramètres :<br>\n",
    " <b>✓ Précision : </b>Quel pourcentage de vos prédictions était correct ?<br>\n",
    " <b>✓ recall : </b>  Quel pourcentage de cas positifs avez-vous attrapé ?<br>\n",
    " <b>✓ Score F1 : </b> lQuel pourcentage de prédictions positives étaient correctes ? <br>\n",
    "</div>"
   ]
  },
  {
   "cell_type": "code",
   "execution_count": 19,
   "metadata": {
    "colab": {
     "base_uri": "https://localhost:8080/"
    },
    "id": "spcwR-7aEa1Q",
    "outputId": "0c4eda65-f244-4f22-81ad-0e0190900b73"
   },
   "outputs": [
    {
     "name": "stdout",
     "output_type": "stream",
     "text": [
      "              precision    recall  f1-score   support\n",
      "\n",
      "           0       0.81      0.77      0.79       106\n",
      "           1       0.76      0.80      0.78        94\n",
      "\n",
      "    accuracy                           0.79       200\n",
      "   macro avg       0.78      0.79      0.78       200\n",
      "weighted avg       0.79      0.79      0.79       200\n",
      "\n",
      "\n",
      "Confusion Matric; \n",
      " [[82 24]\n",
      " [19 75]]\n",
      "\n",
      "Accuracy :  0.785\n"
     ]
    }
   ],
   "source": [
    "#Évaluer le modèle sur l'ensemble de données de test\n",
    "from sklearn.metrics import classification_report, confusion_matrix , accuracy_score\n",
    "pred = mlp.predict(x_test)\n",
    "print(classification_report(y_test, pred))\n",
    "print()\n",
    "print(\"Confusion Matric; \\n\" , confusion_matrix(y_test , pred))\n",
    "print()\n",
    "print('Accuracy : ',accuracy_score(y_test,pred))"
   ]
  },
  {
   "cell_type": "markdown",
   "metadata": {
    "id": "jfOQV3GxLmuu"
   },
   "source": [
    "<h2 style=\"font-family:Serif; color:##f39c12; font-size:27px; margin-bottom:0\">7 -Implementer le modèle sur un exemple </h2>"
   ]
  },
  {
   "cell_type": "code",
   "execution_count": 20,
   "metadata": {
    "colab": {
     "base_uri": "https://localhost:8080/"
    },
    "id": "LZ4Pf0wHEfD6",
    "outputId": "27f3d1a1-a3f3-43a6-f324-e0269161c028"
   },
   "outputs": [
    {
     "name": "stdout",
     "output_type": "stream",
     "text": [
      "[1]\n",
      "positif\n"
     ]
    }
   ],
   "source": [
    "msg = \"Best movie ever\"\n",
    "data = [msg]\n",
    "vect = cv.transform(data).toarray()\n",
    "result= mlp.predict(vect)\n",
    "print(result)\n",
    "if(result == 1):\n",
    "  print(\"positif\")\n",
    "else:\n",
    "  print(\"Negatif\")"
   ]
  },
  {
   "cell_type": "markdown",
   "metadata": {},
   "source": [
    "<div>\n",
    "    <h2 style=\"font-family:Serif; color:#d63031; font-size:27px; margin-bottom:0\">Conclusion : </h2>\n",
    "            <p  style=\"font-family:Serif; font-size:17px;\">Scikit learn Python a fait ses preuves en étant capable d’aider les professionnels à résoudre les problèmes auxquels ils sont confrontés lorsqu’ils mettent en œuvre des modèles prédictifs. Il peut être utilisé pour mettre en œuvre l’apprentissage automatique et peut être associé à des visualisations de données, ce qui rend l’apprentissage automatique encore plus intéressant</p>\n",
    "</div>"
   ]
  },
  {
   "cell_type": "markdown",
   "metadata": {},
   "source": [
    "<div>\n",
    "    <h2 style=\"font-family:Serif; color:#d63031; font-size:27px; margin-bottom:0\">Bibliographie : </h2>\n",
    "           <p style=\"font-family:Serif; font-size:17px;\">Documentation : <a href=\"https://scikit-learn.org/stable/modules/generated/sklearn.neural_network.MLPClassifier.html\"  style=\"font-family:Serif; font-size:17px;\">Sklearn MLPClassifier</a></p>\n",
    "</div>"
   ]
  }
 ],
 "metadata": {
  "colab": {
   "name": "Untitled3.ipynb",
   "provenance": []
  },
  "kernelspec": {
   "display_name": "Python 3 (ipykernel)",
   "language": "python",
   "name": "python3"
  },
  "language_info": {
   "codemirror_mode": {
    "name": "ipython",
    "version": 3
   },
   "file_extension": ".py",
   "mimetype": "text/x-python",
   "name": "python",
   "nbconvert_exporter": "python",
   "pygments_lexer": "ipython3",
   "version": "3.9.7"
  }
 },
 "nbformat": 4,
 "nbformat_minor": 4
}
